{
 "cells": [
  {
   "cell_type": "code",
   "execution_count": 1,
   "metadata": {},
   "outputs": [
    {
     "name": "stderr",
     "output_type": "stream",
     "text": [
      "Using TensorFlow backend.\n"
     ]
    }
   ],
   "source": [
    "from keras.utils import np_utils\n",
    "import numpy as np\n",
    "np.random.seed(10)"
   ]
  },
  {
   "cell_type": "code",
   "execution_count": 2,
   "metadata": {
    "collapsed": true
   },
   "outputs": [],
   "source": [
    "from keras.datasets import mnist\n",
    "(x_train_image, y_train_label), \\\n",
    "(x_test_image, y_test_label) = mnist.load_data()"
   ]
  },
  {
   "cell_type": "code",
   "execution_count": 4,
   "metadata": {
    "collapsed": true
   },
   "outputs": [],
   "source": [
    "x_Train = x_train_image.reshape(60000, 784).astype('float32')\n",
    "x_Test = x_test_image.reshape(10000, 784).astype('float32')\n",
    "#以reshape將原本28X28影像，轉換成784個float數字"
   ]
  },
  {
   "cell_type": "code",
   "execution_count": 7,
   "metadata": {
    "collapsed": true
   },
   "outputs": [],
   "source": [
    "x_Train_normalize = x_Train/255\n",
    "x_Test_normalize = x_Test/255"
   ]
  },
  {
   "cell_type": "code",
   "execution_count": 8,
   "metadata": {
    "collapsed": true
   },
   "outputs": [],
   "source": [
    "y_TrainOneHot = np_utils.to_categorical(y_train_label)\n",
    "y_TestOneHot = np_utils.to_categorical(y_test_label)\n",
    "# similar to as.factor in R"
   ]
  },
  {
   "cell_type": "code",
   "execution_count": 9,
   "metadata": {
    "collapsed": true
   },
   "outputs": [],
   "source": [
    "# 匯入所需模組\n",
    "from keras.models import Sequential\n",
    "from keras.layers import Dense"
   ]
  },
  {
   "cell_type": "code",
   "execution_count": 10,
   "metadata": {
    "collapsed": true
   },
   "outputs": [],
   "source": [
    "model = Sequential()\n",
    "#建立一個堆疊模型，後續只需使用 model.add() 即可將各層加入網路"
   ]
  },
  {
   "cell_type": "code",
   "execution_count": 11,
   "metadata": {
    "collapsed": true
   },
   "outputs": [],
   "source": [
    "model.add(Dense(units = 256, #隱藏層神經元個數：256\n",
    "               input_dim = 784, #輸入曾神經元個數：784\n",
    "               kernel_initializer = 'normal', #以常態分佈初始weight與bias\n",
    "               activation = 'relu'#使用ReLU作為激活函數\n",
    "               ))"
   ]
  },
  {
   "cell_type": "code",
   "execution_count": 12,
   "metadata": {
    "collapsed": true
   },
   "outputs": [],
   "source": [
    "model.add(Dense(units = 10, #輸出層個數：10\n",
    "                kernel_initializer = 'normal', \n",
    "                activation = 'softmax'\n",
    "               ))"
   ]
  },
  {
   "cell_type": "code",
   "execution_count": 13,
   "metadata": {},
   "outputs": [
    {
     "name": "stdout",
     "output_type": "stream",
     "text": [
      "_________________________________________________________________\n",
      "Layer (type)                 Output Shape              Param #   \n",
      "=================================================================\n",
      "dense_1 (Dense)              (None, 256)               200960    \n",
      "_________________________________________________________________\n",
      "dense_2 (Dense)              (None, 10)                2570      \n",
      "=================================================================\n",
      "Total params: 203,530\n",
      "Trainable params: 203,530\n",
      "Non-trainable params: 0\n",
      "_________________________________________________________________\n",
      "None\n"
     ]
    }
   ],
   "source": [
    "print(model.summary())\n",
    "# output = activation(Wx+b)\n",
    "# Param = 上一層神經元數*本層神經元數 + 本層神經元數\n",
    "# 200960 = 784*256 + 256\n",
    "# 2570 = 256*10 +10"
   ]
  },
  {
   "cell_type": "code",
   "execution_count": 14,
   "metadata": {
    "collapsed": true
   },
   "outputs": [],
   "source": [
    "#定義訓練方式\n",
    "model.compile(loss = 'categorical_crossentropy', #交叉熵\n",
    "              optimizer = 'adam', #優化方式\n",
    "              metrics = ['accuracy'] )#以準確度作為評估模型方式"
   ]
  },
  {
   "cell_type": "code",
   "execution_count": 15,
   "metadata": {},
   "outputs": [
    {
     "name": "stdout",
     "output_type": "stream",
     "text": [
      "Train on 48000 samples, validate on 12000 samples\n",
      "Epoch 1/10\n",
      "2s - loss: 0.4389 - acc: 0.8827 - val_loss: 0.2184 - val_acc: 0.9406\n",
      "Epoch 2/10\n",
      "2s - loss: 0.1913 - acc: 0.9456 - val_loss: 0.1561 - val_acc: 0.9557\n",
      "Epoch 3/10\n",
      "1s - loss: 0.1358 - acc: 0.9616 - val_loss: 0.1265 - val_acc: 0.9645\n",
      "Epoch 4/10\n",
      "2s - loss: 0.1031 - acc: 0.9702 - val_loss: 0.1127 - val_acc: 0.9682\n",
      "Epoch 5/10\n",
      "2s - loss: 0.0813 - acc: 0.9773 - val_loss: 0.0984 - val_acc: 0.9716\n",
      "Epoch 6/10\n",
      "1s - loss: 0.0661 - acc: 0.9818 - val_loss: 0.0946 - val_acc: 0.9718\n",
      "Epoch 7/10\n",
      "1s - loss: 0.0545 - acc: 0.9853 - val_loss: 0.0915 - val_acc: 0.9738\n",
      "Epoch 8/10\n",
      "1s - loss: 0.0460 - acc: 0.9876 - val_loss: 0.0829 - val_acc: 0.9758\n",
      "Epoch 9/10\n",
      "1s - loss: 0.0380 - acc: 0.9902 - val_loss: 0.0825 - val_acc: 0.9754\n",
      "Epoch 10/10\n",
      "2s - loss: 0.0316 - acc: 0.9918 - val_loss: 0.0807 - val_acc: 0.9763\n"
     ]
    }
   ],
   "source": [
    "train_history = model.fit(x = x_Train_normalize, \n",
    "                          y = y_TrainOneHot, \n",
    "                          validation_split = 0.2, #20% test set\n",
    "                          epochs = 10, #10次訓練週期\n",
    "                          batch_size = 200, #每一批次200筆資料\n",
    "                          verbose = 2) #顯示訓練過程\n",
    "# epochs = 10 共執行10次練週期，每一次週期完成以下動作\n",
    "# 48000筆training data分成每一批200筆, 分成240(=48000/200)批次"
   ]
  },
  {
   "cell_type": "code",
   "execution_count": 16,
   "metadata": {
    "collapsed": true
   },
   "outputs": [],
   "source": [
    "import matplotlib.pyplot as plt\n",
    "def show_train_history(train_history, train, validation):\n",
    "    plt.plot(train_history.history[train])\n",
    "    plt.plot(train_history.history[validation])\n",
    "    plt.title('Training History')\n",
    "    plt.ylabel(train)\n",
    "    plt.xlabel('Epoch')\n",
    "    plt.legend(['train', 'validation'], loc = 'upper left')\n",
    "    plt.show()"
   ]
  },
  {
   "cell_type": "code",
   "execution_count": 17,
   "metadata": {},
   "outputs": [
    {
     "data": {
      "image/png": "[encoded data removed]",
      "text/plain": [
       "<matplotlib.figure.Figure at 0x1266104e0>"
      ]
     },
     "metadata": {},
     "output_type": "display_data"
    }
   ],
   "source": [
    "show_train_history(train_history, 'acc', 'val_acc')"
   ]
  },
  {
   "cell_type": "code",
   "execution_count": 18,
   "metadata": {},
   "outputs": [
    {
     "data": {
      "image/png": "[encoded data removed]",
      "text/plain": [
       "<matplotlib.figure.Figure at 0x126610320>"
      ]
     },
     "metadata": {},
     "output_type": "display_data"
    }
   ],
   "source": [
    "show_train_history(train_history, 'loss', 'val_loss')"
   ]
  },
  {
   "cell_type": "code",
   "execution_count": 19,
   "metadata": {},
   "outputs": [
    {
     "name": "stdout",
     "output_type": "stream",
     "text": [
      " 9600/10000 [===========================>..] - ETA: 0s\n",
      "accuracy = 0.9754\n"
     ]
    }
   ],
   "source": [
    "scores = model.evaluate(x_Test_normalize, y_TestOneHot)\n",
    "# 使用model.evaluate評估模型準確率，並將結果存在scores\n",
    "print()\n",
    "print('accuracy =', scores[1])"
   ]
  },
  {
   "cell_type": "code",
   "execution_count": 20,
   "metadata": {},
   "outputs": [
    {
     "name": "stdout",
     "output_type": "stream",
     "text": [
      " 9216/10000 [==========================>...] - ETA: 0s"
     ]
    },
    {
     "data": {
      "text/plain": [
       "array([7, 2, 1, ..., 4, 5, 6])"
      ]
     },
     "execution_count": 20,
     "metadata": {},
     "output_type": "execute_result"
    }
   ],
   "source": [
    "prediction = model.predict_classes(x_Test)\n",
    "prediction"
   ]
  },
  {
   "cell_type": "code",
   "execution_count": 21,
   "metadata": {
    "collapsed": true
   },
   "outputs": [],
   "source": [
    "import matplotlib.pyplot as plt\n",
    "def plot_images_labels_prediction(images, labels, \n",
    "                                 prediction, idx, num = 10):\n",
    "    fig = plt.gcf()\n",
    "    fig.set_size_inches(12, 14)\n",
    "    if num > 25: num = 25\n",
    "    for i in range(0, num): \n",
    "        ax = plt.subplot(5, 5, 1+i) #建立subgraph子圖形為5行5列\n",
    "        ax.imshow(images[idx], cmap = 'binary') #畫出subgraph子圖形\n",
    "        title = \"label =\" + str(labels[idx]) #設定子圖形title，顯示標籤欄位\n",
    "        if len(prediction) > 0: #如果有傳入預測結果\n",
    "            title += \", predict =\" + str(prediction[idx]) #標題title加入預測結果\n",
    "        ax.set_title(title, fontsize = 10) #設定子圖形的標題title與大小\n",
    "        ax.set_xticks([]); ax.set_yticks([]) #設定不顯示刻度\n",
    "        idx += 1 #讀取下一筆\n",
    "    plt.show()"
   ]
  },
  {
   "cell_type": "code",
   "execution_count": 22,
   "metadata": {},
   "outputs": [
    {
     "data": {
      "image/png": "[encoded data removed]",
      "text/plain": [
       "<matplotlib.figure.Figure at 0x12aae0630>"
      ]
     },
     "metadata": {},
     "output_type": "display_data"
    }
   ],
   "source": [
    "plot_images_labels_prediction(x_test_image, y_test_label, \n",
    "                             prediction, idx = 340)"
   ]
  },
  {
   "cell_type": "code",
   "execution_count": 23,
   "metadata": {},
   "outputs": [
    {
     "data": {
      "text/html": [
       "<div>\n",
       "<style>\n",
       "    .dataframe thead tr:only-child th {\n",
       "        text-align: right;\n",
       "    }\n",
       "\n",
       "    .dataframe thead th {\n",
       "        text-align: left;\n",
       "    }\n",
       "\n",
       "    .dataframe tbody tr th {\n",
       "        vertical-align: top;\n",
       "    }\n",
       "</style>\n",
       "<table border=\"1\" class=\"dataframe\">\n",
       "  <thead>\n",
       "    <tr style=\"text-align: right;\">\n",
       "      <th>predict</th>\n",
       "      <th>0</th>\n",
       "      <th>1</th>\n",
       "      <th>2</th>\n",
       "      <th>3</th>\n",
       "      <th>4</th>\n",
       "      <th>5</th>\n",
       "      <th>6</th>\n",
       "      <th>7</th>\n",
       "      <th>8</th>\n",
       "      <th>9</th>\n",
       "    </tr>\n",
       "    <tr>\n",
       "      <th>label</th>\n",
       "      <th></th>\n",
       "      <th></th>\n",
       "      <th></th>\n",
       "      <th></th>\n",
       "      <th></th>\n",
       "      <th></th>\n",
       "      <th></th>\n",
       "      <th></th>\n",
       "      <th></th>\n",
       "      <th></th>\n",
       "    </tr>\n",
       "  </thead>\n",
       "  <tbody>\n",
       "    <tr>\n",
       "      <th>0</th>\n",
       "      <td>971</td>\n",
       "      <td>0</td>\n",
       "      <td>1</td>\n",
       "      <td>1</td>\n",
       "      <td>1</td>\n",
       "      <td>0</td>\n",
       "      <td>2</td>\n",
       "      <td>1</td>\n",
       "      <td>3</td>\n",
       "      <td>0</td>\n",
       "    </tr>\n",
       "    <tr>\n",
       "      <th>1</th>\n",
       "      <td>0</td>\n",
       "      <td>1124</td>\n",
       "      <td>4</td>\n",
       "      <td>0</td>\n",
       "      <td>0</td>\n",
       "      <td>1</td>\n",
       "      <td>2</td>\n",
       "      <td>0</td>\n",
       "      <td>4</td>\n",
       "      <td>0</td>\n",
       "    </tr>\n",
       "    <tr>\n",
       "      <th>2</th>\n",
       "      <td>5</td>\n",
       "      <td>0</td>\n",
       "      <td>1007</td>\n",
       "      <td>3</td>\n",
       "      <td>2</td>\n",
       "      <td>0</td>\n",
       "      <td>2</td>\n",
       "      <td>4</td>\n",
       "      <td>9</td>\n",
       "      <td>0</td>\n",
       "    </tr>\n",
       "    <tr>\n",
       "      <th>3</th>\n",
       "      <td>0</td>\n",
       "      <td>0</td>\n",
       "      <td>5</td>\n",
       "      <td>991</td>\n",
       "      <td>0</td>\n",
       "      <td>0</td>\n",
       "      <td>0</td>\n",
       "      <td>4</td>\n",
       "      <td>6</td>\n",
       "      <td>4</td>\n",
       "    </tr>\n",
       "    <tr>\n",
       "      <th>4</th>\n",
       "      <td>2</td>\n",
       "      <td>0</td>\n",
       "      <td>5</td>\n",
       "      <td>1</td>\n",
       "      <td>960</td>\n",
       "      <td>0</td>\n",
       "      <td>3</td>\n",
       "      <td>0</td>\n",
       "      <td>3</td>\n",
       "      <td>8</td>\n",
       "    </tr>\n",
       "    <tr>\n",
       "      <th>5</th>\n",
       "      <td>3</td>\n",
       "      <td>0</td>\n",
       "      <td>0</td>\n",
       "      <td>15</td>\n",
       "      <td>1</td>\n",
       "      <td>850</td>\n",
       "      <td>7</td>\n",
       "      <td>2</td>\n",
       "      <td>11</td>\n",
       "      <td>3</td>\n",
       "    </tr>\n",
       "    <tr>\n",
       "      <th>6</th>\n",
       "      <td>6</td>\n",
       "      <td>3</td>\n",
       "      <td>3</td>\n",
       "      <td>1</td>\n",
       "      <td>4</td>\n",
       "      <td>3</td>\n",
       "      <td>936</td>\n",
       "      <td>0</td>\n",
       "      <td>2</td>\n",
       "      <td>0</td>\n",
       "    </tr>\n",
       "    <tr>\n",
       "      <th>7</th>\n",
       "      <td>0</td>\n",
       "      <td>5</td>\n",
       "      <td>12</td>\n",
       "      <td>6</td>\n",
       "      <td>1</td>\n",
       "      <td>0</td>\n",
       "      <td>0</td>\n",
       "      <td>991</td>\n",
       "      <td>5</td>\n",
       "      <td>8</td>\n",
       "    </tr>\n",
       "    <tr>\n",
       "      <th>8</th>\n",
       "      <td>5</td>\n",
       "      <td>0</td>\n",
       "      <td>3</td>\n",
       "      <td>6</td>\n",
       "      <td>2</td>\n",
       "      <td>1</td>\n",
       "      <td>1</td>\n",
       "      <td>2</td>\n",
       "      <td>953</td>\n",
       "      <td>1</td>\n",
       "    </tr>\n",
       "    <tr>\n",
       "      <th>9</th>\n",
       "      <td>3</td>\n",
       "      <td>5</td>\n",
       "      <td>0</td>\n",
       "      <td>10</td>\n",
       "      <td>8</td>\n",
       "      <td>2</td>\n",
       "      <td>1</td>\n",
       "      <td>4</td>\n",
       "      <td>5</td>\n",
       "      <td>971</td>\n",
       "    </tr>\n",
       "  </tbody>\n",
       "</table>\n",
       "</div>"
      ],
      "text/plain": [
       "predict    0     1     2    3    4    5    6    7    8    9\n",
       "label                                                      \n",
       "0        971     0     1    1    1    0    2    1    3    0\n",
       "1          0  1124     4    0    0    1    2    0    4    0\n",
       "2          5     0  1007    3    2    0    2    4    9    0\n",
       "3          0     0     5  991    0    0    0    4    6    4\n",
       "4          2     0     5    1  960    0    3    0    3    8\n",
       "5          3     0     0   15    1  850    7    2   11    3\n",
       "6          6     3     3    1    4    3  936    0    2    0\n",
       "7          0     5    12    6    1    0    0  991    5    8\n",
       "8          5     0     3    6    2    1    1    2  953    1\n",
       "9          3     5     0   10    8    2    1    4    5  971"
      ]
     },
     "execution_count": 23,
     "metadata": {},
     "output_type": "execute_result"
    }
   ],
   "source": [
    "# 建立列聯表\n",
    "import pandas as pd\n",
    "pd.crosstab(y_test_label, prediction, \n",
    "            rownames=['label'], colnames = ['predict'])"
   ]
  },
  {
   "cell_type": "code",
   "execution_count": 24,
   "metadata": {},
   "outputs": [
    {
     "data": {
      "text/html": [
       "<div>\n",
       "<style>\n",
       "    .dataframe thead tr:only-child th {\n",
       "        text-align: right;\n",
       "    }\n",
       "\n",
       "    .dataframe thead th {\n",
       "        text-align: left;\n",
       "    }\n",
       "\n",
       "    .dataframe tbody tr th {\n",
       "        vertical-align: top;\n",
       "    }\n",
       "</style>\n",
       "<table border=\"1\" class=\"dataframe\">\n",
       "  <thead>\n",
       "    <tr style=\"text-align: right;\">\n",
       "      <th></th>\n",
       "      <th>label</th>\n",
       "      <th>predict</th>\n",
       "    </tr>\n",
       "  </thead>\n",
       "  <tbody>\n",
       "    <tr>\n",
       "      <th>340</th>\n",
       "      <td>5</td>\n",
       "      <td>3</td>\n",
       "    </tr>\n",
       "    <tr>\n",
       "      <th>1003</th>\n",
       "      <td>5</td>\n",
       "      <td>3</td>\n",
       "    </tr>\n",
       "    <tr>\n",
       "      <th>1393</th>\n",
       "      <td>5</td>\n",
       "      <td>3</td>\n",
       "    </tr>\n",
       "    <tr>\n",
       "      <th>2035</th>\n",
       "      <td>5</td>\n",
       "      <td>3</td>\n",
       "    </tr>\n",
       "    <tr>\n",
       "      <th>2526</th>\n",
       "      <td>5</td>\n",
       "      <td>3</td>\n",
       "    </tr>\n",
       "    <tr>\n",
       "      <th>2597</th>\n",
       "      <td>5</td>\n",
       "      <td>3</td>\n",
       "    </tr>\n",
       "    <tr>\n",
       "      <th>2810</th>\n",
       "      <td>5</td>\n",
       "      <td>3</td>\n",
       "    </tr>\n",
       "    <tr>\n",
       "      <th>3117</th>\n",
       "      <td>5</td>\n",
       "      <td>3</td>\n",
       "    </tr>\n",
       "    <tr>\n",
       "      <th>4271</th>\n",
       "      <td>5</td>\n",
       "      <td>3</td>\n",
       "    </tr>\n",
       "    <tr>\n",
       "      <th>4355</th>\n",
       "      <td>5</td>\n",
       "      <td>3</td>\n",
       "    </tr>\n",
       "    <tr>\n",
       "      <th>4360</th>\n",
       "      <td>5</td>\n",
       "      <td>3</td>\n",
       "    </tr>\n",
       "    <tr>\n",
       "      <th>5937</th>\n",
       "      <td>5</td>\n",
       "      <td>3</td>\n",
       "    </tr>\n",
       "    <tr>\n",
       "      <th>5972</th>\n",
       "      <td>5</td>\n",
       "      <td>3</td>\n",
       "    </tr>\n",
       "    <tr>\n",
       "      <th>6028</th>\n",
       "      <td>5</td>\n",
       "      <td>3</td>\n",
       "    </tr>\n",
       "    <tr>\n",
       "      <th>6043</th>\n",
       "      <td>5</td>\n",
       "      <td>3</td>\n",
       "    </tr>\n",
       "  </tbody>\n",
       "</table>\n",
       "</div>"
      ],
      "text/plain": [
       "      label  predict\n",
       "340       5        3\n",
       "1003      5        3\n",
       "1393      5        3\n",
       "2035      5        3\n",
       "2526      5        3\n",
       "2597      5        3\n",
       "2810      5        3\n",
       "3117      5        3\n",
       "4271      5        3\n",
       "4355      5        3\n",
       "4360      5        3\n",
       "5937      5        3\n",
       "5972      5        3\n",
       "6028      5        3\n",
       "6043      5        3"
      ]
     },
     "execution_count": 24,
     "metadata": {},
     "output_type": "execute_result"
    }
   ],
   "source": [
    "df = pd.DataFrame({'label': y_test_label, 'predict': prediction})\n",
    "df[:2] #前兩列(row 0 and row 1)\n",
    "df[(df.label == 5) & (df.predict == 3)]"
   ]
  },
  {
   "cell_type": "code",
   "execution_count": 25,
   "metadata": {},
   "outputs": [
    {
     "data": {
      "image/png": "[encoded data removed]",
      "text/plain": [
       "<matplotlib.figure.Figure at 0x12b3477b8>"
      ]
     },
     "metadata": {},
     "output_type": "display_data"
    }
   ],
   "source": [
    "plot_images_labels_prediction(x_test_image, y_test_label, \n",
    "                             prediction, idx = 340, num = 1)"
   ]
  },
  {
   "cell_type": "code",
   "execution_count": 26,
   "metadata": {},
   "outputs": [
    {
     "name": "stdout",
     "output_type": "stream",
     "text": [
      "_________________________________________________________________\n",
      "Layer (type)                 Output Shape              Param #   \n",
      "=================================================================\n",
      "dense_3 (Dense)              (None, 1000)              785000    \n",
      "_________________________________________________________________\n",
      "dense_4 (Dense)              (None, 10)                10010     \n",
      "=================================================================\n",
      "Total params: 795,010\n",
      "Trainable params: 795,010\n",
      "Non-trainable params: 0\n",
      "_________________________________________________________________\n",
      "None\n",
      "Train on 48000 samples, validate on 12000 samples\n",
      "Epoch 1/10\n",
      "7s - loss: 0.2930 - acc: 0.9157 - val_loss: 0.1535 - val_acc: 0.9565\n",
      "Epoch 2/10\n",
      "6s - loss: 0.1154 - acc: 0.9671 - val_loss: 0.1211 - val_acc: 0.9640\n",
      "Epoch 3/10\n",
      "6s - loss: 0.0741 - acc: 0.9793 - val_loss: 0.0919 - val_acc: 0.9733\n",
      "Epoch 4/10\n",
      "6s - loss: 0.0525 - acc: 0.9851 - val_loss: 0.0820 - val_acc: 0.9746\n",
      "Epoch 5/10\n",
      "6s - loss: 0.0364 - acc: 0.9903 - val_loss: 0.0838 - val_acc: 0.9747\n",
      "Epoch 6/10\n",
      "6s - loss: 0.0249 - acc: 0.9938 - val_loss: 0.0739 - val_acc: 0.9776\n",
      "Epoch 7/10\n",
      "6s - loss: 0.0183 - acc: 0.9957 - val_loss: 0.0735 - val_acc: 0.9775\n",
      "Epoch 8/10\n",
      "6s - loss: 0.0137 - acc: 0.9968 - val_loss: 0.0756 - val_acc: 0.9788\n",
      "Epoch 9/10\n",
      "6s - loss: 0.0100 - acc: 0.9980 - val_loss: 0.0718 - val_acc: 0.9789\n",
      "Epoch 10/10\n",
      "7s - loss: 0.0072 - acc: 0.9990 - val_loss: 0.0816 - val_acc: 0.9772\n"
     ]
    },
    {
     "data": {
      "image/png": "[encoded data removed]",
      "text/plain": [
       "<matplotlib.figure.Figure at 0x12b4294e0>"
      ]
     },
     "metadata": {},
     "output_type": "display_data"
    },
    {
     "data": {
      "image/png": "[encoded data removed]",
      "text/plain": [
       "<matplotlib.figure.Figure at 0x12ab2e208>"
      ]
     },
     "metadata": {},
     "output_type": "display_data"
    },
    {
     "name": "stdout",
     "output_type": "stream",
     "text": [
      " 9856/10000 [============================>.] - ETA: 0s\n",
      "accuracy = 0.9802\n"
     ]
    }
   ],
   "source": [
    "model = Sequential()\n",
    "model.add(Dense(units = 1000, #隱藏層神經元個數：1000\n",
    "               input_dim = 784, \n",
    "               kernel_initializer = 'normal', \n",
    "               activation = 'relu'\n",
    "               ))\n",
    "model.add(Dense(units = 10, \n",
    "                kernel_initializer = 'normal', \n",
    "                activation = 'softmax'\n",
    "               ))\n",
    "print(model.summary())\n",
    "model.compile(loss = 'categorical_crossentropy', \\\n",
    "              optimizer = 'adam', \n",
    "              metrics = ['accuracy'] )\n",
    "train_history = model.fit(x = x_Train_normalize, \n",
    "                          y = y_TrainOneHot, \n",
    "                          validation_split = 0.2, \n",
    "                          epochs = 10, \n",
    "                          batch_size = 200, \n",
    "                          verbose = 2) \n",
    "show_train_history(train_history, 'acc', 'val_acc')\n",
    "show_train_history(train_history, 'loss', 'val_loss')\n",
    "scores = model.evaluate(x_Test_normalize, y_TestOneHot)\n",
    "print()\n",
    "print('accuracy =', scores[1])"
   ]
  },
  {
   "cell_type": "code",
   "execution_count": 27,
   "metadata": {},
   "outputs": [
    {
     "name": "stdout",
     "output_type": "stream",
     "text": [
      "_________________________________________________________________\n",
      "Layer (type)                 Output Shape              Param #   \n",
      "=================================================================\n",
      "dense_5 (Dense)              (None, 1000)              785000    \n",
      "_________________________________________________________________\n",
      "dropout_1 (Dropout)          (None, 1000)              0         \n",
      "_________________________________________________________________\n",
      "dense_6 (Dense)              (None, 10)                10010     \n",
      "=================================================================\n",
      "Total params: 795,010\n",
      "Trainable params: 795,010\n",
      "Non-trainable params: 0\n",
      "_________________________________________________________________\n",
      "None\n",
      "Train on 48000 samples, validate on 12000 samples\n",
      "Epoch 1/10\n",
      "8s - loss: 0.3527 - acc: 0.8944 - val_loss: 0.1626 - val_acc: 0.9541\n",
      "Epoch 2/10\n",
      "7s - loss: 0.1596 - acc: 0.9530 - val_loss: 0.1181 - val_acc: 0.9649\n",
      "Epoch 3/10\n",
      "7s - loss: 0.1152 - acc: 0.9661 - val_loss: 0.0969 - val_acc: 0.9703\n",
      "Epoch 4/10\n",
      "7s - loss: 0.0909 - acc: 0.9731 - val_loss: 0.0870 - val_acc: 0.9724\n",
      "Epoch 5/10\n",
      "7s - loss: 0.0737 - acc: 0.9776 - val_loss: 0.0801 - val_acc: 0.9768\n",
      "Epoch 6/10\n",
      "7s - loss: 0.0635 - acc: 0.9798 - val_loss: 0.0759 - val_acc: 0.9778\n",
      "Epoch 7/10\n",
      "7s - loss: 0.0544 - acc: 0.9840 - val_loss: 0.0751 - val_acc: 0.9787\n",
      "Epoch 8/10\n",
      "7s - loss: 0.0463 - acc: 0.9856 - val_loss: 0.0696 - val_acc: 0.9794\n",
      "Epoch 9/10\n",
      "7s - loss: 0.0412 - acc: 0.9873 - val_loss: 0.0689 - val_acc: 0.9791\n",
      "Epoch 10/10\n",
      "7s - loss: 0.0371 - acc: 0.9884 - val_loss: 0.0668 - val_acc: 0.9818\n"
     ]
    },
    {
     "data": {
      "image/png": "[encoded data removed]",
      "text/plain": [
       "<matplotlib.figure.Figure at 0x12aba5978>"
      ]
     },
     "metadata": {},
     "output_type": "display_data"
    },
    {
     "data": {
      "image/png": "[encoded data removed]",
      "text/plain": [
       "<matplotlib.figure.Figure at 0x12d1b66a0>"
      ]
     },
     "metadata": {},
     "output_type": "display_data"
    },
    {
     "name": "stdout",
     "output_type": "stream",
     "text": [
      " 9984/10000 [============================>.] - ETA: 0s\n",
      "accuracy = 0.9821\n"
     ]
    }
   ],
   "source": [
    "# Dropout\n",
    "from keras.models import Sequential\n",
    "from keras.layers import Dense\n",
    "from keras.layers import Dropout #匯入Dropout模組\n",
    "model = Sequential()\n",
    "model.add(Dense(units = 1000, \n",
    "               input_dim = 784, \n",
    "               kernel_initializer = 'normal', \n",
    "               activation = 'relu'\n",
    "               ))\n",
    "model.add(Dropout(0.5)) #加入Dropout避免overfitting\n",
    "model.add(Dense(units = 10, \n",
    "                kernel_initializer = 'normal', \n",
    "                activation = 'softmax'\n",
    "               ))\n",
    "print(model.summary())\n",
    "model.compile(loss = 'categorical_crossentropy',\n",
    "              optimizer = 'adam', \n",
    "              metrics = ['accuracy'] )\n",
    "train_history = model.fit(x = x_Train_normalize, \n",
    "                          y = y_TrainOneHot, \n",
    "                          validation_split = 0.2, \n",
    "                          epochs = 10, \n",
    "                          batch_size = 200, \n",
    "                          verbose = 2)\n",
    "show_train_history(train_history, 'acc', 'val_acc')\n",
    "show_train_history(train_history, 'loss', 'val_loss')\n",
    "scores = model.evaluate(x_Test_normalize, y_TestOneHot)\n",
    "print()\n",
    "print('accuracy =', scores[1])"
   ]
  },
  {
   "cell_type": "code",
   "execution_count": 28,
   "metadata": {},
   "outputs": [
    {
     "name": "stdout",
     "output_type": "stream",
     "text": [
      "_________________________________________________________________\n",
      "Layer (type)                 Output Shape              Param #   \n",
      "=================================================================\n",
      "dense_7 (Dense)              (None, 1000)              785000    \n",
      "_________________________________________________________________\n",
      "dropout_2 (Dropout)          (None, 1000)              0         \n",
      "_________________________________________________________________\n",
      "dense_8 (Dense)              (None, 1000)              1001000   \n",
      "_________________________________________________________________\n",
      "dropout_3 (Dropout)          (None, 1000)              0         \n",
      "_________________________________________________________________\n",
      "dense_9 (Dense)              (None, 10)                10010     \n",
      "=================================================================\n",
      "Total params: 1,796,010\n",
      "Trainable params: 1,796,010\n",
      "Non-trainable params: 0\n",
      "_________________________________________________________________\n",
      "None\n",
      "Train on 48000 samples, validate on 12000 samples\n",
      "Epoch 1/10\n",
      "17s - loss: 0.3736 - acc: 0.8834 - val_loss: 0.1328 - val_acc: 0.9603\n",
      "Epoch 2/10\n",
      "17s - loss: 0.1605 - acc: 0.9499 - val_loss: 0.0980 - val_acc: 0.9703\n",
      "Epoch 3/10\n",
      "17s - loss: 0.1205 - acc: 0.9630 - val_loss: 0.0894 - val_acc: 0.9742\n",
      "Epoch 4/10\n",
      "17s - loss: 0.0991 - acc: 0.9692 - val_loss: 0.0807 - val_acc: 0.9755\n",
      "Epoch 5/10\n",
      "17s - loss: 0.0831 - acc: 0.9729 - val_loss: 0.0761 - val_acc: 0.9763\n",
      "Epoch 6/10\n",
      "17s - loss: 0.0771 - acc: 0.9761 - val_loss: 0.0785 - val_acc: 0.9772\n",
      "Epoch 7/10\n",
      "17s - loss: 0.0655 - acc: 0.9790 - val_loss: 0.0773 - val_acc: 0.9782\n",
      "Epoch 8/10\n",
      "17s - loss: 0.0601 - acc: 0.9805 - val_loss: 0.0761 - val_acc: 0.9788\n",
      "Epoch 9/10\n",
      "18s - loss: 0.0556 - acc: 0.9820 - val_loss: 0.0735 - val_acc: 0.9797\n",
      "Epoch 10/10\n",
      "17s - loss: 0.0540 - acc: 0.9821 - val_loss: 0.0735 - val_acc: 0.9806\n"
     ]
    },
    {
     "data": {
      "image/png": "[encoded data removed]",
      "text/plain": [
       "<matplotlib.figure.Figure at 0x12d251908>"
      ]
     },
     "metadata": {},
     "output_type": "display_data"
    },
    {
     "data": {
      "image/png": "[encoded data removed]",
      "text/plain": [
       "<matplotlib.figure.Figure at 0x12e784cc0>"
      ]
     },
     "metadata": {},
     "output_type": "display_data"
    },
    {
     "name": "stdout",
     "output_type": "stream",
     "text": [
      " 9952/10000 [============================>.] - ETA: 0s\n",
      "accuracy = 0.981\n"
     ]
    }
   ],
   "source": [
    "# 建立多個隱藏層\n",
    "from keras.models import Sequential\n",
    "from keras.layers import Dense\n",
    "from keras.layers import Dropout \n",
    "model = Sequential()\n",
    "# 加入輸入層與第一個隱藏層\n",
    "model.add(Dense(units = 1000, \n",
    "               input_dim = 784, \n",
    "               kernel_initializer = 'normal', \n",
    "               activation = 'relu'\n",
    "               ))\n",
    "model.add(Dropout(0.5)) \n",
    "#加入第二個隱藏層\n",
    "model.add(Dense(units = 1000, \n",
    "               kernel_initializer = 'normal', \n",
    "               activation = 'relu'\n",
    "               ))\n",
    "model.add(Dropout(0.5)) \n",
    "model.add(Dense(units = 10, \n",
    "                kernel_initializer = 'normal', \n",
    "                activation = 'softmax'\n",
    "               ))\n",
    "print(model.summary())\n",
    "model.compile(loss = 'categorical_crossentropy',\n",
    "              optimizer = 'adam', \n",
    "              metrics = ['accuracy'] )\n",
    "train_history = model.fit(x = x_Train_normalize, \n",
    "                          y = y_TrainOneHot, \n",
    "                          validation_split = 0.2, \n",
    "                          epochs = 10, \n",
    "                          batch_size = 200, \n",
    "                          verbose = 2)\n",
    "show_train_history(train_history, 'acc', 'val_acc')\n",
    "show_train_history(train_history, 'loss', 'val_loss')\n",
    "scores = model.evaluate(x_Test_normalize, y_TestOneHot)\n",
    "print()\n",
    "print('accuracy =', scores[1])\n"
   ]
  },
  {
   "cell_type": "code",
   "execution_count": 29,
   "metadata": {},
   "outputs": [
    {
     "name": "stdout",
     "output_type": "stream",
     "text": [
      " 9792/10000 [============================>.] - ETA: 0s"
     ]
    },
    {
     "data": {
      "text/html": [
       "<div>\n",
       "<style>\n",
       "    .dataframe thead tr:only-child th {\n",
       "        text-align: right;\n",
       "    }\n",
       "\n",
       "    .dataframe thead th {\n",
       "        text-align: left;\n",
       "    }\n",
       "\n",
       "    .dataframe tbody tr th {\n",
       "        vertical-align: top;\n",
       "    }\n",
       "</style>\n",
       "<table border=\"1\" class=\"dataframe\">\n",
       "  <thead>\n",
       "    <tr style=\"text-align: right;\">\n",
       "      <th>predict</th>\n",
       "      <th>0</th>\n",
       "      <th>1</th>\n",
       "      <th>2</th>\n",
       "      <th>3</th>\n",
       "      <th>4</th>\n",
       "      <th>5</th>\n",
       "      <th>6</th>\n",
       "      <th>7</th>\n",
       "      <th>8</th>\n",
       "      <th>9</th>\n",
       "    </tr>\n",
       "    <tr>\n",
       "      <th>label</th>\n",
       "      <th></th>\n",
       "      <th></th>\n",
       "      <th></th>\n",
       "      <th></th>\n",
       "      <th></th>\n",
       "      <th></th>\n",
       "      <th></th>\n",
       "      <th></th>\n",
       "      <th></th>\n",
       "      <th></th>\n",
       "    </tr>\n",
       "  </thead>\n",
       "  <tbody>\n",
       "    <tr>\n",
       "      <th>0</th>\n",
       "      <td>971</td>\n",
       "      <td>1</td>\n",
       "      <td>0</td>\n",
       "      <td>0</td>\n",
       "      <td>2</td>\n",
       "      <td>1</td>\n",
       "      <td>1</td>\n",
       "      <td>2</td>\n",
       "      <td>2</td>\n",
       "      <td>0</td>\n",
       "    </tr>\n",
       "    <tr>\n",
       "      <th>1</th>\n",
       "      <td>0</td>\n",
       "      <td>1128</td>\n",
       "      <td>2</td>\n",
       "      <td>1</td>\n",
       "      <td>0</td>\n",
       "      <td>1</td>\n",
       "      <td>2</td>\n",
       "      <td>0</td>\n",
       "      <td>1</td>\n",
       "      <td>0</td>\n",
       "    </tr>\n",
       "    <tr>\n",
       "      <th>2</th>\n",
       "      <td>4</td>\n",
       "      <td>0</td>\n",
       "      <td>1015</td>\n",
       "      <td>2</td>\n",
       "      <td>2</td>\n",
       "      <td>0</td>\n",
       "      <td>0</td>\n",
       "      <td>5</td>\n",
       "      <td>4</td>\n",
       "      <td>0</td>\n",
       "    </tr>\n",
       "    <tr>\n",
       "      <th>3</th>\n",
       "      <td>1</td>\n",
       "      <td>0</td>\n",
       "      <td>4</td>\n",
       "      <td>994</td>\n",
       "      <td>0</td>\n",
       "      <td>2</td>\n",
       "      <td>0</td>\n",
       "      <td>5</td>\n",
       "      <td>2</td>\n",
       "      <td>2</td>\n",
       "    </tr>\n",
       "    <tr>\n",
       "      <th>4</th>\n",
       "      <td>1</td>\n",
       "      <td>0</td>\n",
       "      <td>3</td>\n",
       "      <td>0</td>\n",
       "      <td>961</td>\n",
       "      <td>0</td>\n",
       "      <td>0</td>\n",
       "      <td>2</td>\n",
       "      <td>0</td>\n",
       "      <td>15</td>\n",
       "    </tr>\n",
       "    <tr>\n",
       "      <th>5</th>\n",
       "      <td>2</td>\n",
       "      <td>0</td>\n",
       "      <td>0</td>\n",
       "      <td>8</td>\n",
       "      <td>1</td>\n",
       "      <td>876</td>\n",
       "      <td>2</td>\n",
       "      <td>0</td>\n",
       "      <td>1</td>\n",
       "      <td>2</td>\n",
       "    </tr>\n",
       "    <tr>\n",
       "      <th>6</th>\n",
       "      <td>3</td>\n",
       "      <td>2</td>\n",
       "      <td>1</td>\n",
       "      <td>1</td>\n",
       "      <td>4</td>\n",
       "      <td>8</td>\n",
       "      <td>938</td>\n",
       "      <td>0</td>\n",
       "      <td>1</td>\n",
       "      <td>0</td>\n",
       "    </tr>\n",
       "    <tr>\n",
       "      <th>7</th>\n",
       "      <td>1</td>\n",
       "      <td>6</td>\n",
       "      <td>8</td>\n",
       "      <td>1</td>\n",
       "      <td>0</td>\n",
       "      <td>0</td>\n",
       "      <td>0</td>\n",
       "      <td>1005</td>\n",
       "      <td>2</td>\n",
       "      <td>5</td>\n",
       "    </tr>\n",
       "    <tr>\n",
       "      <th>8</th>\n",
       "      <td>3</td>\n",
       "      <td>0</td>\n",
       "      <td>3</td>\n",
       "      <td>9</td>\n",
       "      <td>4</td>\n",
       "      <td>7</td>\n",
       "      <td>2</td>\n",
       "      <td>5</td>\n",
       "      <td>937</td>\n",
       "      <td>4</td>\n",
       "    </tr>\n",
       "    <tr>\n",
       "      <th>9</th>\n",
       "      <td>3</td>\n",
       "      <td>4</td>\n",
       "      <td>0</td>\n",
       "      <td>6</td>\n",
       "      <td>8</td>\n",
       "      <td>3</td>\n",
       "      <td>0</td>\n",
       "      <td>9</td>\n",
       "      <td>1</td>\n",
       "      <td>975</td>\n",
       "    </tr>\n",
       "  </tbody>\n",
       "</table>\n",
       "</div>"
      ],
      "text/plain": [
       "predict    0     1     2    3    4    5    6     7    8    9\n",
       "label                                                       \n",
       "0        971     1     0    0    2    1    1     2    2    0\n",
       "1          0  1128     2    1    0    1    2     0    1    0\n",
       "2          4     0  1015    2    2    0    0     5    4    0\n",
       "3          1     0     4  994    0    2    0     5    2    2\n",
       "4          1     0     3    0  961    0    0     2    0   15\n",
       "5          2     0     0    8    1  876    2     0    1    2\n",
       "6          3     2     1    1    4    8  938     0    1    0\n",
       "7          1     6     8    1    0    0    0  1005    2    5\n",
       "8          3     0     3    9    4    7    2     5  937    4\n",
       "9          3     4     0    6    8    3    0     9    1  975"
      ]
     },
     "execution_count": 29,
     "metadata": {},
     "output_type": "execute_result"
    }
   ],
   "source": [
    "prediction = model.predict_classes(x_Test)\n",
    "prediction\n",
    "import pandas as pd\n",
    "pd.crosstab(y_test_label, prediction, \n",
    "            rownames=['label'], colnames = ['predict'])"
   ]
  },
  {
   "cell_type": "code",
   "execution_count": 30,
   "metadata": {},
   "outputs": [
    {
     "data": {
      "text/plain": [
       "0.97999999999999998"
      ]
     },
     "execution_count": 30,
     "metadata": {},
     "output_type": "execute_result"
    }
   ],
   "source": [
    "np.mean(prediction == y_test_label)"
   ]
  },
  {
   "cell_type": "code",
   "execution_count": 31,
   "metadata": {
    "collapsed": true
   },
   "outputs": [],
   "source": [
    "from keras.models import load_model\n"
   ]
  },
  {
   "cell_type": "code",
   "execution_count": 32,
   "metadata": {},
   "outputs": [
    {
     "name": "stdout",
     "output_type": "stream",
     "text": [
      "<bound method Container.to_json of <keras.models.Sequential object at 0x12d1eb978>>\n"
     ]
    }
   ],
   "source": [
    "json_string = model.to_json\n",
    "print(json_string)"
   ]
  },
  {
   "cell_type": "code",
   "execution_count": 33,
   "metadata": {
    "collapsed": true
   },
   "outputs": [],
   "source": [
    "np.set_printoptions(threshold = 1)\n",
    "#np.set_printoptions(threshold = np.nan)"
   ]
  },
  {
   "cell_type": "code",
   "execution_count": 34,
   "metadata": {},
   "outputs": [
    {
     "data": {
      "text/plain": [
       "array([[ 0.01850593,  0.00762922, -0.02005058, ...,  0.02387847,\n",
       "        -0.12675552, -0.06087386],\n",
       "       [ 0.04577015,  0.02209547,  0.02621761, ...,  0.07395436,\n",
       "        -0.00029651,  0.03341579],\n",
       "       [-0.07560609, -0.04464569,  0.09793154, ...,  0.01406102,\n",
       "         0.03605115, -0.05675925],\n",
       "       ..., \n",
       "       [ 0.09392823, -0.05493357,  0.00200605, ..., -0.10214566,\n",
       "         0.03125802,  0.00740753],\n",
       "       [-0.00042697, -0.03691287, -0.14702226, ..., -0.04661644,\n",
       "        -0.06724789,  0.03438751],\n",
       "       [ 0.02309488, -0.15573284,  0.00823603, ...,  0.00409237,\n",
       "         0.02908264,  0.03042303]], dtype=float32)"
      ]
     },
     "execution_count": 34,
     "metadata": {},
     "output_type": "execute_result"
    }
   ],
   "source": [
    "model.get_weights()[4]"
   ]
  },
  {
   "cell_type": "code",
   "execution_count": 35,
   "metadata": {
    "collapsed": true
   },
   "outputs": [],
   "source": [
    "np.savetxt(fname = 'summary/NN/W1.csv', X = np.transpose(model.get_weights()[0]), \n",
    "           fmt='%f', comments = '', newline='\\n', \n",
    "           header = '', delimiter = ',')\n",
    "np.savetxt(fname = 'summary/NN/b1.csv', X = (model.get_weights()[1]), \n",
    "           fmt='%f', comments = '', newline='\\n', \n",
    "           header = '', delimiter = ',')\n",
    "\n",
    "\n",
    "np.savetxt(fname = 'summary/NN/W2.csv', X = np.transpose(model.get_weights()[2]), \n",
    "           fmt='%f', comments = '', newline='\\n', \n",
    "           header = '', delimiter = ',')\n",
    "np.savetxt(fname = 'summary/NN/b2.csv', X = (model.get_weights()[3]), \n",
    "           fmt='%f', comments = '', newline='\\n', \n",
    "           header = '', delimiter = ',')\n",
    "\n",
    "\n",
    "np.savetxt(fname = 'summary/NN/W3.csv', X = np.transpose(model.get_weights()[4]), \n",
    "           fmt='%f', comments = '', newline='\\n', \n",
    "           header = '', delimiter = '\\n')\n",
    "np.savetxt(fname = 'summary/NN/b3.csv', X = (model.get_weights()[5]), \n",
    "           fmt='%f', comments = '', newline='\\n', \n",
    "           header = '', delimiter = '\\n')"
   ]
  },
  {
   "cell_type": "code",
   "execution_count": 36,
   "metadata": {},
   "outputs": [
    {
     "data": {
      "text/plain": [
       "array([[ 0.01850593,  0.04577015, -0.07560609, ...,  0.09392823,\n",
       "        -0.00042697,  0.02309488],\n",
       "       [ 0.00762922,  0.02209547, -0.04464569, ..., -0.05493357,\n",
       "        -0.03691287, -0.15573284],\n",
       "       [-0.02005058,  0.02621761,  0.09793154, ...,  0.00200605,\n",
       "        -0.14702226,  0.00823603],\n",
       "       ..., \n",
       "       [ 0.02387847,  0.07395436,  0.01406102, ..., -0.10214566,\n",
       "        -0.04661644,  0.00409237],\n",
       "       [-0.12675552, -0.00029651,  0.03605115, ...,  0.03125802,\n",
       "        -0.06724789,  0.02908264],\n",
       "       [-0.06087386,  0.03341579, -0.05675925, ...,  0.00740753,\n",
       "         0.03438751,  0.03042303]], dtype=float32)"
      ]
     },
     "execution_count": 36,
     "metadata": {},
     "output_type": "execute_result"
    }
   ],
   "source": [
    "np.transpose(model.get_weights()[4])"
   ]
  },
  {
   "cell_type": "code",
   "execution_count": 37,
   "metadata": {},
   "outputs": [
    {
     "name": "stderr",
     "output_type": "stream",
     "text": [
      "IOPub data rate exceeded.\n",
      "The notebook server will temporarily stop sending output\n",
      "to the client in order to avoid crashing it.\n",
      "To change this limit, set the config variable\n",
      "`--NotebookApp.iopub_data_rate_limit`.\n"
     ]
    }
   ],
   "source": [
    "np.set_printoptions(threshold = np.inf)\n",
    "model.get_weights()[2].tolist()\n",
    "#np.set_printoptions(threshold = 1)"
   ]
  }
 ],
 "metadata": {
  "kernelspec": {
   "display_name": "Python 3",
   "language": "python",
   "name": "python3"
  },
  "language_info": {
   "codemirror_mode": {
    "name": "ipython",
    "version": 3
   },
   "file_extension": ".py",
   "mimetype": "text/x-python",
   "name": "python",
   "nbconvert_exporter": "python",
   "pygments_lexer": "ipython3",
   "version": "3.6.1"
  }
 },
 "nbformat": 4,
 "nbformat_minor": 2
}
